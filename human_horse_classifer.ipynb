{
  "cells": [
    {
      "cell_type": "markdown",
      "metadata": {
        "id": "view-in-github",
        "colab_type": "text"
      },
      "source": [
        "<a href=\"https://colab.research.google.com/github/olalekana142/olalekana142/blob/main/human_horse_classifer.ipynb\" target=\"_parent\"><img src=\"https://colab.research.google.com/assets/colab-badge.svg\" alt=\"Open In Colab\"/></a>"
      ]
    },
    {
      "cell_type": "code",
      "execution_count": 2,
      "metadata": {
        "id": "L-uPXvVq2EBn"
      },
      "outputs": [],
      "source": [
        "import numpy as np\n",
        "import matplotlib.pyplot as plt\n",
        "import pandas as pd \n",
        "import tensorflow as tf\n",
        "import random\n",
        "import os\n",
        "%matplotlib inline"
      ]
    },
    {
      "cell_type": "code",
      "source": [
        "from google.colab import drive\n",
        "drive.mount('/content/drive')"
      ],
      "metadata": {
        "colab": {
          "base_uri": "https://localhost:8080/"
        },
        "id": "SQCXgpox3KNj",
        "outputId": "3e2b6469-57c1-4298-d3fd-278a58af862a"
      },
      "execution_count": 3,
      "outputs": [
        {
          "output_type": "stream",
          "name": "stdout",
          "text": [
            "Mounted at /content/drive\n"
          ]
        }
      ]
    },
    {
      "cell_type": "markdown",
      "source": [
        "# New section"
      ],
      "metadata": {
        "id": "vOudcOm_4JLg"
      }
    },
    {
      "cell_type": "code",
      "execution_count": 4,
      "metadata": {
        "id": "GKBBduGn2EBw"
      },
      "outputs": [],
      "source": [
        "from tensorflow.keras.applications import InceptionV3\n",
        "from tensorflow.keras.models import Sequential\n",
        "from tensorflow.keras.layers import Dense, Flatten, BatchNormalization, Dropout\n",
        "from tensorflow.keras.preprocessing.image import ImageDataGenerator\n",
        "from tensorflow.keras.preprocessing.image import load_img, img_to_array"
      ]
    },
    {
      "cell_type": "markdown",
      "metadata": {
        "id": "vChAA0-W2EBy"
      },
      "source": [
        "# Data Preparation "
      ]
    },
    {
      "cell_type": "code",
      "execution_count": 5,
      "metadata": {
        "id": "cWRgDIvO2EB1"
      },
      "outputs": [],
      "source": [
        "epochs=50\n",
        "lr= 1e-3\n",
        "batch_size =128\n",
        "data =[]\n",
        "labels= []"
      ]
    },
    {
      "cell_type": "code",
      "execution_count": 6,
      "metadata": {
        "id": "ghaLSRpC2EB3"
      },
      "outputs": [],
      "source": [
        "size=224  # Height/Width"
      ]
    },
    {
      "cell_type": "markdown",
      "metadata": {
        "id": "kcc2iUk32EB5"
      },
      "source": [
        "# ImageDataGeneration"
      ]
    },
    {
      "cell_type": "code",
      "execution_count": 7,
      "metadata": {
        "id": "90ZVd6aK2EB7"
      },
      "outputs": [],
      "source": [
        "train_datagen = ImageDataGenerator(horizontal_flip=True,\n",
        "                                   width_shift_range=0.4,\n",
        "                                   height_shift_range=0.4,\n",
        "                                   zoom_range=0.3,\n",
        "                                   rotation_range=20,\n",
        "                                   rescale=1/255)\n"
      ]
    },
    {
      "cell_type": "code",
      "execution_count": 8,
      "metadata": {
        "colab": {
          "base_uri": "https://localhost:8080/"
        },
        "id": "wfLz-qzm2EB9",
        "outputId": "2046d0d1-60f8-4f0b-dfca-5f4634ea91cb"
      },
      "outputs": [
        {
          "output_type": "execute_result",
          "data": {
            "text/plain": [
              "(224, 224)"
            ]
          },
          "metadata": {},
          "execution_count": 8
        }
      ],
      "source": [
        "\n",
        "test_datagen =ImageDataGenerator(rescale=1/255)\n",
        "target_size= (size,size)\n",
        "target_size"
      ]
    },
    {
      "cell_type": "code",
      "execution_count": 9,
      "metadata": {
        "colab": {
          "base_uri": "https://localhost:8080/"
        },
        "id": "GRK2vKrC2EB-",
        "outputId": "48f7b1a4-c0ac-44d4-b844-eeb12bcbdb66"
      },
      "outputs": [
        {
          "output_type": "stream",
          "name": "stdout",
          "text": [
            "Found 1027 images belonging to 2 classes.\n",
            "Found 256 images belonging to 2 classes.\n"
          ]
        }
      ],
      "source": [
        "train_generator=train_datagen.flow_from_directory(\n",
        "directory= '/content/drive/MyDrive/horse-or-human/train',\n",
        "target_size=target_size,\n",
        "batch_size=batch_size,\n",
        "class_mode='binary')\n",
        "validation_generator =test_datagen.flow_from_directory(directory='/content/drive/MyDrive/horse-or-human/validation',\n",
        "                                                     target_size=target_size,\n",
        "                                                     batch_size=batch_size,\n",
        "                                                     class_mode='binary' )"
      ]
    },
    {
      "cell_type": "code",
      "execution_count": 10,
      "metadata": {
        "colab": {
          "base_uri": "https://localhost:8080/"
        },
        "id": "LeGzdrb52ECA",
        "outputId": "d7b40619-e0ee-4515-f1a7-f8d6e8c243a2"
      },
      "outputs": [
        {
          "output_type": "execute_result",
          "data": {
            "text/plain": [
              "{'horses': 0, 'humans': 1}"
            ]
          },
          "metadata": {},
          "execution_count": 10
        }
      ],
      "source": [
        "train_generator.class_indices"
      ]
    },
    {
      "cell_type": "code",
      "execution_count": 11,
      "metadata": {
        "id": "g1oGrQ-72ECB"
      },
      "outputs": [],
      "source": [
        "x,y = train_generator.next()"
      ]
    },
    {
      "cell_type": "code",
      "execution_count": 12,
      "metadata": {
        "id": "NLw0wghs2ECC"
      },
      "outputs": [],
      "source": [
        "model=tf.keras.Sequential([\n",
        "tf.keras.layers.Conv2D(32,  (3,3) ,input_shape = ( 224, 224, 3),padding='same', activation='relu'),\n",
        "tf.keras.layers.MaxPool2D(pool_size=(2, 2), ),\n",
        "        \n",
        "tf.keras.layers.Conv2D(32,  (3,3),padding='same', activation='relu'),\n",
        "tf.keras.layers.MaxPool2D(pool_size=(2,2) ),\n",
        "    \n",
        "tf.keras.layers.Conv2D(64,  (3,3),padding='same', activation='relu'),\n",
        "tf.keras.layers.MaxPool2D(pool_size=(2,2)),\n",
        "        \n",
        "tf.keras.layers.Flatten(),\n",
        "tf.keras.layers.BatchNormalization(),\n",
        "tf.keras.layers.Dense(2048, activation='relu'),\n",
        "tf.keras.layers.BatchNormalization(),\n",
        "tf.keras.layers.Dense(1024, activation='relu'),\n",
        "tf.keras.layers.BatchNormalization(),\n",
        "#tf.keras.layers.Dropout(0.5),\n",
        "tf.keras.layers.Dense(1, activation ='sigmoid')])"
      ]
    },
    {
      "cell_type": "code",
      "execution_count": 13,
      "metadata": {
        "id": "X2lKd6ke2ECE",
        "outputId": "b7fd6f53-cf55-4818-f163-482a7c8b235b",
        "colab": {
          "base_uri": "https://localhost:8080/"
        }
      },
      "outputs": [
        {
          "output_type": "stream",
          "name": "stdout",
          "text": [
            "Model: \"sequential\"\n",
            "_________________________________________________________________\n",
            " Layer (type)                Output Shape              Param #   \n",
            "=================================================================\n",
            " conv2d (Conv2D)             (None, 224, 224, 32)      896       \n",
            "                                                                 \n",
            " max_pooling2d (MaxPooling2D  (None, 112, 112, 32)     0         \n",
            " )                                                               \n",
            "                                                                 \n",
            " conv2d_1 (Conv2D)           (None, 112, 112, 32)      9248      \n",
            "                                                                 \n",
            " max_pooling2d_1 (MaxPooling  (None, 56, 56, 32)       0         \n",
            " 2D)                                                             \n",
            "                                                                 \n",
            " conv2d_2 (Conv2D)           (None, 56, 56, 64)        18496     \n",
            "                                                                 \n",
            " max_pooling2d_2 (MaxPooling  (None, 28, 28, 64)       0         \n",
            " 2D)                                                             \n",
            "                                                                 \n",
            " flatten (Flatten)           (None, 50176)             0         \n",
            "                                                                 \n",
            " batch_normalization (BatchN  (None, 50176)            200704    \n",
            " ormalization)                                                   \n",
            "                                                                 \n",
            " dense (Dense)               (None, 2048)              102762496 \n",
            "                                                                 \n",
            " batch_normalization_1 (Batc  (None, 2048)             8192      \n",
            " hNormalization)                                                 \n",
            "                                                                 \n",
            " dense_1 (Dense)             (None, 1024)              2098176   \n",
            "                                                                 \n",
            " batch_normalization_2 (Batc  (None, 1024)             4096      \n",
            " hNormalization)                                                 \n",
            "                                                                 \n",
            " dense_2 (Dense)             (None, 1)                 1025      \n",
            "                                                                 \n",
            "=================================================================\n",
            "Total params: 105,103,329\n",
            "Trainable params: 104,996,833\n",
            "Non-trainable params: 106,496\n",
            "_________________________________________________________________\n"
          ]
        }
      ],
      "source": [
        "model.summary()"
      ]
    },
    {
      "cell_type": "code",
      "execution_count": 14,
      "metadata": {
        "id": "In75jGzv2ECF"
      },
      "outputs": [],
      "source": [
        "model.compile(optimizer='adam', loss='binary_crossentropy', metrics=['accuracy'])"
      ]
    },
    {
      "cell_type": "code",
      "execution_count": 15,
      "metadata": {
        "colab": {
          "base_uri": "https://localhost:8080/"
        },
        "id": "_ce3m6fA2ECG",
        "outputId": "8b8e9e92-fc6d-4f80-971d-5e2f3c5b0526"
      },
      "outputs": [
        {
          "output_type": "stream",
          "name": "stdout",
          "text": [
            "Epoch 1/2\n",
            "8/8 [==============================] - 165s 22s/step - loss: 1.9725 - accuracy: 0.5584 - val_loss: 4.8559 - val_accuracy: 0.5000\n",
            "Epoch 2/2\n",
            "8/8 [==============================] - 21s 3s/step - loss: 0.6854 - accuracy: 0.6685 - val_loss: 3.7731 - val_accuracy: 0.5000\n"
          ]
        },
        {
          "output_type": "execute_result",
          "data": {
            "text/plain": [
              "<keras.callbacks.History at 0x7fbc05ca9b10>"
            ]
          },
          "metadata": {},
          "execution_count": 15
        }
      ],
      "source": [
        "model.fit(train_generator,steps_per_epoch =len(train_generator.filenames)//batch_size,\n",
        "          epochs=2,validation_data=validation_generator,validation_steps= len(validation_generator.filenames)//batch_size)"
      ]
    },
    {
      "cell_type": "code",
      "execution_count": 17,
      "metadata": {
        "id": "JplmygYM2ECI",
        "colab": {
          "base_uri": "https://localhost:8080/",
          "height": 287
        },
        "outputId": "3f5aa40f-1609-468e-b6e7-f2f78486f42c"
      },
      "outputs": [
        {
          "output_type": "execute_result",
          "data": {
            "text/plain": [
              "<matplotlib.image.AxesImage at 0x7fbc04a259d0>"
            ]
          },
          "metadata": {},
          "execution_count": 17
        },
        {
          "output_type": "display_data",
          "data": {
            "image/png": "[encoded data removed]",
            "text/plain": [
              "<Figure size 432x288 with 1 Axes>"
            ]
          },
          "metadata": {
            "needs_background": "light"
          }
        }
      ],
      "source": [
        "img_path ='/content/newimage.jpg'\n",
        "img = load_img(img_path,target_size=(size,size,3))\n",
        "plt.imshow(img)"
      ]
    },
    {
      "cell_type": "code",
      "execution_count": 19,
      "metadata": {
        "id": "RFYYFwPS2ECK"
      },
      "outputs": [],
      "source": [
        "img=img_to_array(img)\n",
        "img= img/255.0"
      ]
    },
    {
      "cell_type": "markdown",
      "metadata": {
        "id": "5qdcV3Ve2ECM"
      },
      "source": [
        "Predict the picture\n"
      ]
    },
    {
      "cell_type": "code",
      "execution_count": 22,
      "metadata": {
        "id": "T4JNajtJ2ECN"
      },
      "outputs": [],
      "source": [
        "img= img.reshape(1, size, size, 3)"
      ]
    },
    {
      "cell_type": "code",
      "execution_count": 23,
      "metadata": {
        "id": "2DZ0i0Uh2ECO",
        "colab": {
          "base_uri": "https://localhost:8080/"
        },
        "outputId": "2552dbc2-f3f9-460c-b592-5dcda57846d2"
      },
      "outputs": [
        {
          "output_type": "execute_result",
          "data": {
            "text/plain": [
              "array([[0.99949646]], dtype=float32)"
            ]
          },
          "metadata": {},
          "execution_count": 23
        }
      ],
      "source": [
        "model.predict(img)"
      ]
    },
    {
      "cell_type": "code",
      "execution_count": 24,
      "metadata": {
        "id": "-fTCA1fB2ECP",
        "colab": {
          "base_uri": "https://localhost:8080/"
        },
        "outputId": "1491f122-72c4-4788-b395-488ca2ac9777"
      },
      "outputs": [
        {
          "output_type": "execute_result",
          "data": {
            "text/plain": [
              "{'horses': 0, 'humans': 1}"
            ]
          },
          "metadata": {},
          "execution_count": 24
        }
      ],
      "source": [
        "train_generator.class_indices"
      ]
    },
    {
      "cell_type": "code",
      "source": [
        "def get_classes(data):\n",
        "  prob= model.predict(img)[0][0]\n",
        "  \n",
        "\n",
        "  if prob <=0.5:\n",
        "    return 'horse', (1- prob)\n",
        "  else:\n",
        "    return 'human',prob"
      ],
      "metadata": {
        "id": "WXrEOjWXfHnG"
      },
      "execution_count": 34,
      "outputs": []
    },
    {
      "cell_type": "code",
      "source": [
        "get_classes(img)"
      ],
      "metadata": {
        "colab": {
          "base_uri": "https://localhost:8080/"
        },
        "id": "FkseTiRBfxjX",
        "outputId": "63f4380a-1c1c-4db1-a17c-66e94448485d"
      },
      "execution_count": 35,
      "outputs": [
        {
          "output_type": "execute_result",
          "data": {
            "text/plain": [
              "('human', 0.99949646)"
            ]
          },
          "metadata": {},
          "execution_count": 35
        }
      ]
    },
    {
      "cell_type": "code",
      "source": [
        ""
      ],
      "metadata": {
        "id": "1SErClBog5zV"
      },
      "execution_count": null,
      "outputs": []
    }
  ],
  "metadata": {
    "kernelspec": {
      "display_name": "Python 3",
      "language": "python",
      "name": "python3"
    },
    "language_info": {
      "codemirror_mode": {
        "name": "ipython",
        "version": 3
      },
      "file_extension": ".py",
      "mimetype": "text/x-python",
      "name": "python",
      "nbconvert_exporter": "python",
      "pygments_lexer": "ipython3",
      "version": "3.7.6"
    },
    "colab": {
      "name": "human-horse classifer.ipynb",
      "provenance": [],
      "collapsed_sections": [],
      "include_colab_link": true
    },
    "accelerator": "GPU"
  },
  "nbformat": 4,
  "nbformat_minor": 0
}