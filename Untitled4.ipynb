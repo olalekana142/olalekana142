{
  "cells": [
    {
      "cell_type": "markdown",
      "metadata": {
        "id": "view-in-github",
        "colab_type": "text"
      },
      "source": [
        "<a href=\"https://colab.research.google.com/github/olalekana142/olalekana142/blob/main/Untitled4.ipynb\" target=\"_parent\"><img src=\"https://colab.research.google.com/assets/colab-badge.svg\" alt=\"Open In Colab\"/></a>"
      ]
    },
    {
      "cell_type": "code",
      "execution_count": null,
      "metadata": {
        "colab": {
          "base_uri": "https://localhost:8080/"
        },
        "id": "Xemn61QOxh3d",
        "outputId": "a00909f8-1ded-40d9-d142-48302d130638"
      },
      "outputs": [
        {
          "name": "stdout",
          "output_type": "stream",
          "text": [
            "Drive already mounted at /content/drive; to attempt to forcibly remount, call drive.mount(\"/content/drive\", force_remount=True).\n"
          ]
        }
      ],
      "source": [
        "from google.colab import drive\n",
        "drive.mount('/content/drive')"
      ]
    },
    {
      "cell_type": "code",
      "execution_count": 2,
      "metadata": {
        "id": "nz4_PFTn0nK0",
        "colab": {
          "base_uri": "https://localhost:8080/"
        },
        "outputId": "6b3d17aa-c650-4d3b-c608-bed7ea3a284f"
      },
      "outputs": [
        {
          "output_type": "stream",
          "name": "stdout",
          "text": [
            "Requirement already satisfied: beautifulsoup4 in /usr/local/lib/python3.7/dist-packages (4.6.3)\n"
          ]
        }
      ],
      "source": [
        "pip install beautifulsoup4\n"
      ]
    },
    {
      "cell_type": "code",
      "source": [
        "import urllib.request, urllib.parse, urllib.error\n",
        "from bs4 import BeautifulSoup\n",
        "import ssl\n",
        "\n",
        "ctx = ssl.create_default_context()\n",
        "ctx.check_hostname = False\n",
        "ctx.verify_mode= ssl.CERT_NONE\n",
        "\n",
        "link= input('Enter - ')\n",
        "count =int(input(\"Enter count:\"))\n",
        "line= int(input('Enter position'))\n",
        "\n",
        "print(\"Retrieving: %s\"  % link)\n",
        "for i in range(0, count):\n",
        "  html = urllib.request.urlopen(link,context=ctx).read()\n",
        "  soup = BeautifulSoup(html, 'html.parser')\n",
        "\n",
        "  tags=soup('a')\n",
        "  cn=0\n",
        "  ps=0\n",
        "  for tag in tags:\n",
        "    ps+=1\n",
        "    if ps == line:\n",
        "      print('Retrieving: %s' % str(tag.get('href',None)))\n",
        "      link =str(tag.get('href', None))\n",
        "      ps=0\n",
        "      break\n",
        "\n"
      ],
      "metadata": {
        "colab": {
          "base_uri": "https://localhost:8080/"
        },
        "id": "nL0K5FSbOK-C",
        "outputId": "3cddbabb-4531-492a-c815-c66c664242bc"
      },
      "execution_count": 15,
      "outputs": [
        {
          "output_type": "stream",
          "name": "stdout",
          "text": [
            "Enter - http://py4e-data.dr-chuck.net/known_by_Almirah.html\n",
            "Enter count:7\n",
            "Enter position18\n",
            "Retrieving: http://py4e-data.dr-chuck.net/known_by_Almirah.html\n",
            "Retrieving: http://py4e-data.dr-chuck.net/known_by_Tiago.html\n",
            "Retrieving: http://py4e-data.dr-chuck.net/known_by_Renia.html\n",
            "Retrieving: http://py4e-data.dr-chuck.net/known_by_Duriel.html\n",
            "Retrieving: http://py4e-data.dr-chuck.net/known_by_Stewart.html\n",
            "Retrieving: http://py4e-data.dr-chuck.net/known_by_Bret.html\n",
            "Retrieving: http://py4e-data.dr-chuck.net/known_by_Coupar.html\n",
            "Retrieving: http://py4e-data.dr-chuck.net/known_by_Leonard.html\n"
          ]
        }
      ]
    },
    {
      "cell_type": "code",
      "source": [
        "import urllib.request, urllib.parse, urllib.error\n",
        "import xml.etree.ElementTree as ET\n",
        "\n",
        "url = input(\"Enter - \")\n",
        "uh = urllib.request.urlopen(url)\n",
        "data = uh.read()\n",
        "\n",
        "tree = ET.fromstring(data)\n",
        "results = tree.findall('comments/comment')\n",
        "count =0\n",
        "sum=0\n",
        "for item in results:\n",
        "    x = int(item.find('count').text)\n",
        "    count =count+1\n",
        "    sum = sum+x\n",
        "\n",
        "print(\"Count : \",count)\n",
        "print(\"Sum : \",sum)"
      ],
      "metadata": {
        "colab": {
          "base_uri": "https://localhost:8080/"
        },
        "id": "xXV2sXYQfGn2",
        "outputId": "15652d5d-8265-47a4-d940-86f3a060d66f"
      },
      "execution_count": 16,
      "outputs": [
        {
          "output_type": "stream",
          "name": "stdout",
          "text": [
            "Enter - http://py4e-data.dr-chuck.net/comments_1500105.xml\n",
            "Count :  50\n",
            "Sum :  2581\n"
          ]
        }
      ]
    },
    {
      "cell_type": "code",
      "source": [
        "import urllib.request, urllib.parse, urllib.error\n",
        "from bs4 import BeautifulSoup\n",
        "import ssl\n",
        "\n",
        "ctx = ssl.create_default_context()\n",
        "ctx.check_hostname = False\n",
        "ctx.verify_mode= ssl.CERT_NONE\n",
        "\n",
        "url =input('Enter - ')\n",
        "html = urllib.request.urlopen(url).read()\n",
        "soup = BeautifulSoup(html, 'html.parser')\n",
        "\n",
        "tags= soup(\"span\")\n",
        "sum=0\n",
        "for tag in tags:\n",
        "  sum= sum + int(tag.contents[0])\n",
        "print(sum)"
      ],
      "metadata": {
        "colab": {
          "base_uri": "https://localhost:8080/"
        },
        "id": "0XW7Am2xHCXR",
        "outputId": "3faa37ac-bcce-4206-8e75-3848116156f8"
      },
      "execution_count": 10,
      "outputs": [
        {
          "output_type": "stream",
          "name": "stdout",
          "text": [
            "Enter - http://py4e-data.dr-chuck.net/comments_1500103.html\n",
            "2237\n"
          ]
        }
      ]
    },
    {
      "cell_type": "code",
      "source": [
        "import json\n",
        "from urllib.request import urlopen\n",
        "import ssl\n",
        "\n",
        "\n",
        "ctx = ssl.create_default_context()\n",
        "ctx.check_hostname = False\n",
        "ctx.verify_mode = ssl.CERT_NONE\n",
        "\n",
        "\n",
        "address = input('Enter an address - ')\n",
        "if address == '':\n",
        "    quit()\n",
        "data = urlopen(address).read()\n",
        "\n",
        "\n",
        "data = json.loads(data)\n",
        "\n",
        "\n",
        "total = 0\n",
        "for user in data['comments']:\n",
        "    total = total + user['count']\n",
        "\n",
        "print('Total comments:', total)"
      ],
      "metadata": {
        "colab": {
          "base_uri": "https://localhost:8080/"
        },
        "id": "MKrALpgRiEgt",
        "outputId": "be83b8f0-474c-42e2-ea30-fb3050d4281d"
      },
      "execution_count": 17,
      "outputs": [
        {
          "output_type": "stream",
          "name": "stdout",
          "text": [
            "Enter an address - http://py4e-data.dr-chuck.net/comments_1500106.json\n",
            "Total comments: 2287\n"
          ]
        }
      ]
    },
    {
      "cell_type": "code",
      "source": [
        "import urllib.request, urllib.parse, urllib.error\n",
        "import json\n",
        "serviceurl = 'http://py4e-data.dr-chuck.net/geojson?'\n",
        "\n",
        "\n",
        "address = input('Enter location: ')\n",
        "\n",
        "url = serviceurl + urllib.parse.urlencode(\n",
        "        {'address': address})\n",
        "\n",
        "print('Retrieving', url)\n",
        "uh = urllib.request.urlopen(url)\n",
        "data = uh.read().decode()\n",
        "print('Retrieved', len(data), 'characters')\n",
        "\n",
        "try:\n",
        "        js = json.loads(data)\n",
        "except:\n",
        "        js = None\n",
        "\n",
        "    \n",
        "place_id = js['results'][0]['place_id']\n",
        "print('Place id',place_id)"
      ],
      "metadata": {
        "colab": {
          "base_uri": "https://localhost:8080/",
          "height": 289
        },
        "id": "YTqd886Riy8T",
        "outputId": "20f56fde-c480-4fc7-96bb-e55cfb8282ae"
      },
      "execution_count": 20,
      "outputs": [
        {
          "output_type": "stream",
          "name": "stdout",
          "text": [
            "Enter location: https://www.py4e.com/code3/geojson.py?PHPSESSID=97d76905aed9b24b059983090af5548d\n",
            "Retrieving http://py4e-data.dr-chuck.net/geojson?address=https%3A%2F%2Fwww.py4e.com%2Fcode3%2Fgeojson.py%3FPHPSESSID%3D97d76905aed9b24b059983090af5548d\n",
            "Retrieved 10092 characters\n"
          ]
        },
        {
          "output_type": "error",
          "ename": "IndexError",
          "evalue": "ignored",
          "traceback": [
            "\u001b[0;31m---------------------------------------------------------------------------\u001b[0m",
            "\u001b[0;31mIndexError\u001b[0m                                Traceback (most recent call last)",
            "\u001b[0;32m<ipython-input-20-3789bcf5e372>\u001b[0m in \u001b[0;36m<module>\u001b[0;34m()\u001b[0m\n\u001b[1;32m     20\u001b[0m \u001b[0;34m\u001b[0m\u001b[0m\n\u001b[1;32m     21\u001b[0m \u001b[0;34m\u001b[0m\u001b[0m\n\u001b[0;32m---> 22\u001b[0;31m \u001b[0mplace_id\u001b[0m \u001b[0;34m=\u001b[0m \u001b[0mjs\u001b[0m\u001b[0;34m[\u001b[0m\u001b[0;34m'results'\u001b[0m\u001b[0;34m]\u001b[0m\u001b[0;34m[\u001b[0m\u001b[0;36m0\u001b[0m\u001b[0;34m]\u001b[0m\u001b[0;34m[\u001b[0m\u001b[0;34m'place_id'\u001b[0m\u001b[0;34m]\u001b[0m\u001b[0;34m\u001b[0m\u001b[0;34m\u001b[0m\u001b[0m\n\u001b[0m\u001b[1;32m     23\u001b[0m \u001b[0mprint\u001b[0m\u001b[0;34m(\u001b[0m\u001b[0;34m'Place id'\u001b[0m\u001b[0;34m,\u001b[0m\u001b[0mplace_id\u001b[0m\u001b[0;34m)\u001b[0m\u001b[0;34m\u001b[0m\u001b[0;34m\u001b[0m\u001b[0m\n",
            "\u001b[0;31mIndexError\u001b[0m: list index out of range"
          ]
        }
      ]
    },
    {
      "cell_type": "code",
      "source": [
        "import json\n",
        "import urllib\n",
        "url = input(\"Enter a Url:\")\n",
        "u= urllib.request.urlopen(url)\n",
        "dat=u.read()\n",
        "data= json.loads(dat)\n",
        "\n",
        "total=0\n",
        "for tags in data['comments']:\n",
        "  total +=tags[\"count\"]\n",
        "print(total)"
      ],
      "metadata": {
        "colab": {
          "base_uri": "https://localhost:8080/",
          "height": 380
        },
        "id": "H10FhHwikmQd",
        "outputId": "cf6cf49c-8394-44ba-e0fd-fe49b2afb893"
      },
      "execution_count": 23,
      "outputs": [
        {
          "name": "stdout",
          "output_type": "stream",
          "text": [
            "Enter a Url:http://py4e-data.dr-chuck.net/json?\n"
          ]
        },
        {
          "output_type": "error",
          "ename": "JSONDecodeError",
          "evalue": "ignored",
          "traceback": [
            "\u001b[0;31m---------------------------------------------------------------------------\u001b[0m",
            "\u001b[0;31mJSONDecodeError\u001b[0m                           Traceback (most recent call last)",
            "\u001b[0;32m<ipython-input-23-656a1915d640>\u001b[0m in \u001b[0;36m<module>\u001b[0;34m()\u001b[0m\n\u001b[1;32m      4\u001b[0m \u001b[0mu\u001b[0m\u001b[0;34m=\u001b[0m \u001b[0murllib\u001b[0m\u001b[0;34m.\u001b[0m\u001b[0mrequest\u001b[0m\u001b[0;34m.\u001b[0m\u001b[0murlopen\u001b[0m\u001b[0;34m(\u001b[0m\u001b[0murl\u001b[0m\u001b[0;34m)\u001b[0m\u001b[0;34m\u001b[0m\u001b[0;34m\u001b[0m\u001b[0m\n\u001b[1;32m      5\u001b[0m \u001b[0mdat\u001b[0m\u001b[0;34m=\u001b[0m\u001b[0mu\u001b[0m\u001b[0;34m.\u001b[0m\u001b[0mread\u001b[0m\u001b[0;34m(\u001b[0m\u001b[0;34m)\u001b[0m\u001b[0;34m\u001b[0m\u001b[0;34m\u001b[0m\u001b[0m\n\u001b[0;32m----> 6\u001b[0;31m \u001b[0mdata\u001b[0m\u001b[0;34m=\u001b[0m \u001b[0mjson\u001b[0m\u001b[0;34m.\u001b[0m\u001b[0mloads\u001b[0m\u001b[0;34m(\u001b[0m\u001b[0mdat\u001b[0m\u001b[0;34m)\u001b[0m\u001b[0;34m\u001b[0m\u001b[0;34m\u001b[0m\u001b[0m\n\u001b[0m\u001b[1;32m      7\u001b[0m \u001b[0;34m\u001b[0m\u001b[0m\n\u001b[1;32m      8\u001b[0m \u001b[0mtotal\u001b[0m\u001b[0;34m=\u001b[0m\u001b[0;36m0\u001b[0m\u001b[0;34m\u001b[0m\u001b[0;34m\u001b[0m\u001b[0m\n",
            "\u001b[0;32m/usr/lib/python3.7/json/__init__.py\u001b[0m in \u001b[0;36mloads\u001b[0;34m(s, encoding, cls, object_hook, parse_float, parse_int, parse_constant, object_pairs_hook, **kw)\u001b[0m\n\u001b[1;32m    346\u001b[0m             \u001b[0mparse_int\u001b[0m \u001b[0;32mis\u001b[0m \u001b[0;32mNone\u001b[0m \u001b[0;32mand\u001b[0m \u001b[0mparse_float\u001b[0m \u001b[0;32mis\u001b[0m \u001b[0;32mNone\u001b[0m \u001b[0;32mand\u001b[0m\u001b[0;34m\u001b[0m\u001b[0;34m\u001b[0m\u001b[0m\n\u001b[1;32m    347\u001b[0m             parse_constant is None and object_pairs_hook is None and not kw):\n\u001b[0;32m--> 348\u001b[0;31m         \u001b[0;32mreturn\u001b[0m \u001b[0m_default_decoder\u001b[0m\u001b[0;34m.\u001b[0m\u001b[0mdecode\u001b[0m\u001b[0;34m(\u001b[0m\u001b[0ms\u001b[0m\u001b[0;34m)\u001b[0m\u001b[0;34m\u001b[0m\u001b[0;34m\u001b[0m\u001b[0m\n\u001b[0m\u001b[1;32m    349\u001b[0m     \u001b[0;32mif\u001b[0m \u001b[0mcls\u001b[0m \u001b[0;32mis\u001b[0m \u001b[0;32mNone\u001b[0m\u001b[0;34m:\u001b[0m\u001b[0;34m\u001b[0m\u001b[0;34m\u001b[0m\u001b[0m\n\u001b[1;32m    350\u001b[0m         \u001b[0mcls\u001b[0m \u001b[0;34m=\u001b[0m \u001b[0mJSONDecoder\u001b[0m\u001b[0;34m\u001b[0m\u001b[0;34m\u001b[0m\u001b[0m\n",
            "\u001b[0;32m/usr/lib/python3.7/json/decoder.py\u001b[0m in \u001b[0;36mdecode\u001b[0;34m(self, s, _w)\u001b[0m\n\u001b[1;32m    335\u001b[0m \u001b[0;34m\u001b[0m\u001b[0m\n\u001b[1;32m    336\u001b[0m         \"\"\"\n\u001b[0;32m--> 337\u001b[0;31m         \u001b[0mobj\u001b[0m\u001b[0;34m,\u001b[0m \u001b[0mend\u001b[0m \u001b[0;34m=\u001b[0m \u001b[0mself\u001b[0m\u001b[0;34m.\u001b[0m\u001b[0mraw_decode\u001b[0m\u001b[0;34m(\u001b[0m\u001b[0ms\u001b[0m\u001b[0;34m,\u001b[0m \u001b[0midx\u001b[0m\u001b[0;34m=\u001b[0m\u001b[0m_w\u001b[0m\u001b[0;34m(\u001b[0m\u001b[0ms\u001b[0m\u001b[0;34m,\u001b[0m \u001b[0;36m0\u001b[0m\u001b[0;34m)\u001b[0m\u001b[0;34m.\u001b[0m\u001b[0mend\u001b[0m\u001b[0;34m(\u001b[0m\u001b[0;34m)\u001b[0m\u001b[0;34m)\u001b[0m\u001b[0;34m\u001b[0m\u001b[0;34m\u001b[0m\u001b[0m\n\u001b[0m\u001b[1;32m    338\u001b[0m         \u001b[0mend\u001b[0m \u001b[0;34m=\u001b[0m \u001b[0m_w\u001b[0m\u001b[0;34m(\u001b[0m\u001b[0ms\u001b[0m\u001b[0;34m,\u001b[0m \u001b[0mend\u001b[0m\u001b[0;34m)\u001b[0m\u001b[0;34m.\u001b[0m\u001b[0mend\u001b[0m\u001b[0;34m(\u001b[0m\u001b[0;34m)\u001b[0m\u001b[0;34m\u001b[0m\u001b[0;34m\u001b[0m\u001b[0m\n\u001b[1;32m    339\u001b[0m         \u001b[0;32mif\u001b[0m \u001b[0mend\u001b[0m \u001b[0;34m!=\u001b[0m \u001b[0mlen\u001b[0m\u001b[0;34m(\u001b[0m\u001b[0ms\u001b[0m\u001b[0;34m)\u001b[0m\u001b[0;34m:\u001b[0m\u001b[0;34m\u001b[0m\u001b[0;34m\u001b[0m\u001b[0m\n",
            "\u001b[0;32m/usr/lib/python3.7/json/decoder.py\u001b[0m in \u001b[0;36mraw_decode\u001b[0;34m(self, s, idx)\u001b[0m\n\u001b[1;32m    353\u001b[0m             \u001b[0mobj\u001b[0m\u001b[0;34m,\u001b[0m \u001b[0mend\u001b[0m \u001b[0;34m=\u001b[0m \u001b[0mself\u001b[0m\u001b[0;34m.\u001b[0m\u001b[0mscan_once\u001b[0m\u001b[0;34m(\u001b[0m\u001b[0ms\u001b[0m\u001b[0;34m,\u001b[0m \u001b[0midx\u001b[0m\u001b[0;34m)\u001b[0m\u001b[0;34m\u001b[0m\u001b[0;34m\u001b[0m\u001b[0m\n\u001b[1;32m    354\u001b[0m         \u001b[0;32mexcept\u001b[0m \u001b[0mStopIteration\u001b[0m \u001b[0;32mas\u001b[0m \u001b[0merr\u001b[0m\u001b[0;34m:\u001b[0m\u001b[0;34m\u001b[0m\u001b[0;34m\u001b[0m\u001b[0m\n\u001b[0;32m--> 355\u001b[0;31m             \u001b[0;32mraise\u001b[0m \u001b[0mJSONDecodeError\u001b[0m\u001b[0;34m(\u001b[0m\u001b[0;34m\"Expecting value\"\u001b[0m\u001b[0;34m,\u001b[0m \u001b[0ms\u001b[0m\u001b[0;34m,\u001b[0m \u001b[0merr\u001b[0m\u001b[0;34m.\u001b[0m\u001b[0mvalue\u001b[0m\u001b[0;34m)\u001b[0m \u001b[0;32mfrom\u001b[0m \u001b[0;32mNone\u001b[0m\u001b[0;34m\u001b[0m\u001b[0;34m\u001b[0m\u001b[0m\n\u001b[0m\u001b[1;32m    356\u001b[0m         \u001b[0;32mreturn\u001b[0m \u001b[0mobj\u001b[0m\u001b[0;34m,\u001b[0m \u001b[0mend\u001b[0m\u001b[0;34m\u001b[0m\u001b[0;34m\u001b[0m\u001b[0m\n",
            "\u001b[0;31mJSONDecodeError\u001b[0m: Expecting value: line 1 column 1 (char 0)"
          ]
        }
      ]
    },
    {
      "cell_type": "code",
      "source": [
        "import urllib.error, urllib.request, urllib.parse\n",
        "import json\n",
        "target='http://py4e-data.dr-chuck.net/json?'\n",
        "local= input(\"Enter a location\")\n",
        "url=target + urllib.parse.urlencode({'address':local,'key':42})\n",
        "print('Retriving', url)\n",
        "data=urllib.request.urlopen(url).read()\n",
        "print('retrived', len(data), 'characters')\n",
        "js=json.loads(data)\n",
        "print(json.dumps(js, indent=4))\n",
        "print('place_id',js['results'][0]['place_id'] )\n"
      ],
      "metadata": {
        "colab": {
          "base_uri": "https://localhost:8080/"
        },
        "id": "lw5mIPEMnv-8",
        "outputId": "93ea8fa6-49bb-4d64-817a-cf2fb869a51f"
      },
      "execution_count": 24,
      "outputs": [
        {
          "output_type": "stream",
          "name": "stdout",
          "text": [
            "Enter a locationJawaharlal Nehru Technological University\n",
            "Retriving http://py4e-data.dr-chuck.net/json?address=Jawaharlal+Nehru+Technological+University&key=42\n",
            "retrived 7042 characters\n",
            "{\n",
            "    \"results\": [\n",
            "        {\n",
            "            \"address_components\": [\n",
            "                {\n",
            "                    \"long_name\": \"F9VR+8H2\",\n",
            "                    \"short_name\": \"F9VR+8H2\",\n",
            "                    \"types\": [\n",
            "                        \"plus_code\"\n",
            "                    ]\n",
            "                },\n",
            "                {\n",
            "                    \"long_name\": \"Ashok Nagar\",\n",
            "                    \"short_name\": \"Ashok Nagar\",\n",
            "                    \"types\": [\n",
            "                        \"neighborhood\",\n",
            "                        \"political\"\n",
            "                    ]\n",
            "                },\n",
            "                {\n",
            "                    \"long_name\": \"Kukatpally Housing Board Colony\",\n",
            "                    \"short_name\": \"KPHB\",\n",
            "                    \"types\": [\n",
            "                        \"political\",\n",
            "                        \"sublocality\",\n",
            "                        \"sublocality_level_2\"\n",
            "                    ]\n",
            "                },\n",
            "                {\n",
            "                    \"long_name\": \"Kukatpally\",\n",
            "                    \"short_name\": \"Kukatpally\",\n",
            "                    \"types\": [\n",
            "                        \"political\",\n",
            "                        \"sublocality\",\n",
            "                        \"sublocality_level_1\"\n",
            "                    ]\n",
            "                },\n",
            "                {\n",
            "                    \"long_name\": \"Hyderabad\",\n",
            "                    \"short_name\": \"Hyderabad\",\n",
            "                    \"types\": [\n",
            "                        \"locality\",\n",
            "                        \"political\"\n",
            "                    ]\n",
            "                },\n",
            "                {\n",
            "                    \"long_name\": \"Ranga Reddy\",\n",
            "                    \"short_name\": \"R.R. District\",\n",
            "                    \"types\": [\n",
            "                        \"administrative_area_level_2\",\n",
            "                        \"political\"\n",
            "                    ]\n",
            "                },\n",
            "                {\n",
            "                    \"long_name\": \"Telangana\",\n",
            "                    \"short_name\": \"TG\",\n",
            "                    \"types\": [\n",
            "                        \"administrative_area_level_1\",\n",
            "                        \"political\"\n",
            "                    ]\n",
            "                },\n",
            "                {\n",
            "                    \"long_name\": \"India\",\n",
            "                    \"short_name\": \"IN\",\n",
            "                    \"types\": [\n",
            "                        \"country\",\n",
            "                        \"political\"\n",
            "                    ]\n",
            "                },\n",
            "                {\n",
            "                    \"long_name\": \"500085\",\n",
            "                    \"short_name\": \"500085\",\n",
            "                    \"types\": [\n",
            "                        \"postal_code\"\n",
            "                    ]\n",
            "                }\n",
            "            ],\n",
            "            \"formatted_address\": \"F9VR+8H2, Ashok Nagar, Kukatpally Housing Board Colony, Kukatpally, Hyderabad, Telangana 500085, India\",\n",
            "            \"geometry\": {\n",
            "                \"location\": {\n",
            "                    \"lat\": 17.4932682,\n",
            "                    \"lng\": 78.3913929\n",
            "                },\n",
            "                \"location_type\": \"GEOMETRIC_CENTER\",\n",
            "                \"viewport\": {\n",
            "                    \"northeast\": {\n",
            "                        \"lat\": 17.4946171802915,\n",
            "                        \"lng\": 78.39274188029151\n",
            "                    },\n",
            "                    \"southwest\": {\n",
            "                        \"lat\": 17.4919192197085,\n",
            "                        \"lng\": 78.39004391970849\n",
            "                    }\n",
            "                }\n",
            "            },\n",
            "            \"place_id\": \"ChIJAWUhyYaRyzsREsCP_eHykls\",\n",
            "            \"types\": [\n",
            "                \"establishment\",\n",
            "                \"point_of_interest\",\n",
            "                \"university\"\n",
            "            ]\n",
            "        },\n",
            "        {\n",
            "            \"address_components\": [\n",
            "                {\n",
            "                    \"long_name\": \"F9QW+25R\",\n",
            "                    \"short_name\": \"F9QW+25R\",\n",
            "                    \"types\": [\n",
            "                        \"plus_code\"\n",
            "                    ]\n",
            "                },\n",
            "                {\n",
            "                    \"long_name\": \"Kukatpally Housing Board Colony\",\n",
            "                    \"short_name\": \"KPHB\",\n",
            "                    \"types\": [\n",
            "                        \"political\",\n",
            "                        \"sublocality\",\n",
            "                        \"sublocality_level_2\"\n",
            "                    ]\n",
            "                },\n",
            "                {\n",
            "                    \"long_name\": \"Kukatpally\",\n",
            "                    \"short_name\": \"Kukatpally\",\n",
            "                    \"types\": [\n",
            "                        \"political\",\n",
            "                        \"sublocality\",\n",
            "                        \"sublocality_level_1\"\n",
            "                    ]\n",
            "                },\n",
            "                {\n",
            "                    \"long_name\": \"Hyderabad\",\n",
            "                    \"short_name\": \"Hyderabad\",\n",
            "                    \"types\": [\n",
            "                        \"locality\",\n",
            "                        \"political\"\n",
            "                    ]\n",
            "                },\n",
            "                {\n",
            "                    \"long_name\": \"Ranga Reddy\",\n",
            "                    \"short_name\": \"R.R. District\",\n",
            "                    \"types\": [\n",
            "                        \"administrative_area_level_2\",\n",
            "                        \"political\"\n",
            "                    ]\n",
            "                },\n",
            "                {\n",
            "                    \"long_name\": \"Telangana\",\n",
            "                    \"short_name\": \"TG\",\n",
            "                    \"types\": [\n",
            "                        \"administrative_area_level_1\",\n",
            "                        \"political\"\n",
            "                    ]\n",
            "                },\n",
            "                {\n",
            "                    \"long_name\": \"India\",\n",
            "                    \"short_name\": \"IN\",\n",
            "                    \"types\": [\n",
            "                        \"country\",\n",
            "                        \"political\"\n",
            "                    ]\n",
            "                },\n",
            "                {\n",
            "                    \"long_name\": \"500085\",\n",
            "                    \"short_name\": \"500085\",\n",
            "                    \"types\": [\n",
            "                        \"postal_code\"\n",
            "                    ]\n",
            "                }\n",
            "            ],\n",
            "            \"formatted_address\": \"F9QW+25R, Kukatpally Housing Board Colony, Kukatpally, Hyderabad, Telangana 500085, India\",\n",
            "            \"geometry\": {\n",
            "                \"location\": {\n",
            "                    \"lat\": 17.4876191,\n",
            "                    \"lng\": 78.395377\n",
            "                },\n",
            "                \"location_type\": \"GEOMETRIC_CENTER\",\n",
            "                \"viewport\": {\n",
            "                    \"northeast\": {\n",
            "                        \"lat\": 17.4889680802915,\n",
            "                        \"lng\": 78.3967259802915\n",
            "                    },\n",
            "                    \"southwest\": {\n",
            "                        \"lat\": 17.4862701197085,\n",
            "                        \"lng\": 78.39402801970849\n",
            "                    }\n",
            "                }\n",
            "            },\n",
            "            \"place_id\": \"ChIJQxJp942RyzsRvT6axWBLd9c\",\n",
            "            \"types\": [\n",
            "                \"establishment\",\n",
            "                \"point_of_interest\",\n",
            "                \"university\"\n",
            "            ]\n",
            "        },\n",
            "        {\n",
            "            \"address_components\": [\n",
            "                {\n",
            "                    \"long_name\": \"Jawaharlal Nehru Technological University\",\n",
            "                    \"short_name\": \"Jawaharlal Nehru Technological University\",\n",
            "                    \"types\": [\n",
            "                        \"neighborhood\",\n",
            "                        \"political\"\n",
            "                    ]\n",
            "                },\n",
            "                {\n",
            "                    \"long_name\": \"Kukatpally\",\n",
            "                    \"short_name\": \"Kukatpally\",\n",
            "                    \"types\": [\n",
            "                        \"political\",\n",
            "                        \"sublocality\",\n",
            "                        \"sublocality_level_1\"\n",
            "                    ]\n",
            "                },\n",
            "                {\n",
            "                    \"long_name\": \"Hyderabad\",\n",
            "                    \"short_name\": \"Hyderabad\",\n",
            "                    \"types\": [\n",
            "                        \"locality\",\n",
            "                        \"political\"\n",
            "                    ]\n",
            "                },\n",
            "                {\n",
            "                    \"long_name\": \"Ranga Reddy\",\n",
            "                    \"short_name\": \"R.R. District\",\n",
            "                    \"types\": [\n",
            "                        \"administrative_area_level_2\",\n",
            "                        \"political\"\n",
            "                    ]\n",
            "                },\n",
            "                {\n",
            "                    \"long_name\": \"Telangana\",\n",
            "                    \"short_name\": \"TG\",\n",
            "                    \"types\": [\n",
            "                        \"administrative_area_level_1\",\n",
            "                        \"political\"\n",
            "                    ]\n",
            "                },\n",
            "                {\n",
            "                    \"long_name\": \"India\",\n",
            "                    \"short_name\": \"IN\",\n",
            "                    \"types\": [\n",
            "                        \"country\",\n",
            "                        \"political\"\n",
            "                    ]\n",
            "                },\n",
            "                {\n",
            "                    \"long_name\": \"500085\",\n",
            "                    \"short_name\": \"500085\",\n",
            "                    \"types\": [\n",
            "                        \"postal_code\"\n",
            "                    ]\n",
            "                }\n",
            "            ],\n",
            "            \"formatted_address\": \"Jawaharlal Nehru Technological University, Kukatpally, Hyderabad, Telangana 500085, India\",\n",
            "            \"geometry\": {\n",
            "                \"bounds\": {\n",
            "                    \"northeast\": {\n",
            "                        \"lat\": 17.4975316,\n",
            "                        \"lng\": 78.39505489999999\n",
            "                    },\n",
            "                    \"southwest\": {\n",
            "                        \"lat\": 17.4941697,\n",
            "                        \"lng\": 78.3932406\n",
            "                    }\n",
            "                },\n",
            "                \"location\": {\n",
            "                    \"lat\": 17.4957629,\n",
            "                    \"lng\": 78.39382119999999\n",
            "                },\n",
            "                \"location_type\": \"APPROXIMATE\",\n",
            "                \"viewport\": {\n",
            "                    \"northeast\": {\n",
            "                        \"lat\": 17.4975316,\n",
            "                        \"lng\": 78.3954967302915\n",
            "                    },\n",
            "                    \"southwest\": {\n",
            "                        \"lat\": 17.4941697,\n",
            "                        \"lng\": 78.39279876970849\n",
            "                    }\n",
            "                }\n",
            "            },\n",
            "            \"place_id\": \"ChIJWSFoXvKRyzsRiiBnQSVu5Ok\",\n",
            "            \"types\": [\n",
            "                \"neighborhood\",\n",
            "                \"political\"\n",
            "            ]\n",
            "        }\n",
            "    ],\n",
            "    \"status\": \"OK\"\n",
            "}\n",
            "place_id ChIJAWUhyYaRyzsREsCP_eHykls\n"
          ]
        }
      ]
    }
  ],
  "metadata": {
    "colab": {
      "name": "Untitled4.ipynb",
      "provenance": [],
      "collapsed_sections": [],
      "mount_file_id": "1AF2lB_Hejq7xqX29b7yVmkLqwz2upL1B",
      "authorship_tag": "ABX9TyPmCQRg3vacLt0W//Y+FaOz",
      "include_colab_link": true
    },
    "kernelspec": {
      "display_name": "Python 3",
      "name": "python3"
    },
    "language_info": {
      "name": "python"
    }
  },
  "nbformat": 4,
  "nbformat_minor": 0
}